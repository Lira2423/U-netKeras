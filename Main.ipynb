{
 "cells": [
  {
   "cell_type": "markdown",
   "id": "fd5596e7",
   "metadata": {},
   "source": [
    "### Imports"
   ]
  },
  {
   "cell_type": "code",
   "execution_count": 3,
   "id": "cc3f6a37",
   "metadata": {},
   "outputs": [],
   "source": [
    "import tensorflow as tf\n",
    "import numpy as np\n",
    "from PIL import Image\n",
    "import nbimporter\n",
    "import Model"
   ]
  },
  {
   "cell_type": "markdown",
   "id": "72147679",
   "metadata": {},
   "source": [
    "### Data init"
   ]
  },
  {
   "cell_type": "code",
   "execution_count": 8,
   "id": "4b61f83d",
   "metadata": {},
   "outputs": [],
   "source": [
    "X_train = np.load(\"/root/U-netKeras/data/clouddata_normalized.npy\")\n",
    "Y_train = np.load(\"/root/U-netKeras/data/mask.npy\")"
   ]
  }
 ],
 "metadata": {
  "kernelspec": {
   "display_name": "Python 3 (ipykernel)",
   "language": "python",
   "name": "python3"
  },
  "language_info": {
   "codemirror_mode": {
    "name": "ipython",
    "version": 3
   },
   "file_extension": ".py",
   "mimetype": "text/x-python",
   "name": "python",
   "nbconvert_exporter": "python",
   "pygments_lexer": "ipython3",
   "version": "3.8.10"
  }
 },
 "nbformat": 4,
 "nbformat_minor": 5
}
